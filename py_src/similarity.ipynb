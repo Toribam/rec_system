{
 "cells": [
  {
   "cell_type": "code",
   "execution_count": null,
   "metadata": {},
   "outputs": [],
   "source": [
    "import os\n",
    "print(\"Working dir : \", os.getcwd())\n",
    "\n",
    "os.chdir(os.pardir)\n",
    "\n",
    "for item in os.listdir(os.getcwd()):\n",
    "    print(item)\n",
    "print(os.getcwd())"
   ]
  },
  {
   "cell_type": "code",
   "execution_count": null,
   "metadata": {},
   "outputs": [],
   "source": [
    "import numpy as np\n",
    "import pandas as pd\n",
    "\n",
    "### read dataset\n",
    "df = pd.read_excel('raw_data/refined_data.xlsx')\n",
    "\n",
    "print(\"===== summary =====\")\n",
    "print(df)"
   ]
  },
  {
   "cell_type": "code",
   "execution_count": null,
   "metadata": {},
   "outputs": [],
   "source": [
    "# select row\n",
    "\n",
    "print(\"row\")\n",
    "print(df.iloc[1, 1:6])\n",
    "print(df.iloc[2, 1:6])\n",
    "\n"
   ]
  },
  {
   "cell_type": "code",
   "execution_count": null,
   "metadata": {},
   "outputs": [],
   "source": [
    "# select column\n",
    "\n",
    "print(\"column\")\n",
    "df.iloc[:, 1:6]\n"
   ]
  },
  {
   "cell_type": "code",
   "execution_count": 15,
   "metadata": {},
   "outputs": [],
   "source": [
    "## Cosine similarity\n",
    "\n",
    "def cos_sim(vec1, vec2):\n",
    "\n",
    "  # vector angular\n",
    "  dot_product = np.dot(vec1, vec2)\n",
    "\n",
    "  # vector size(norm)\n",
    "  norm_vec1 = np.linalg.norm(vec1)\n",
    "  norm_vec2 = np.linalg.norm(vec2)\n",
    "\n",
    "  # cosine similarity\n",
    "  cosine_sim = dot_product / (norm_vec1 * norm_vec2)\n",
    "\n",
    "  return cosine_sim\n",
    "\n",
    "# cos_sim(df.iloc[1, 1:6], df.iloc[2, 1:6])\n"
   ]
  },
  {
   "cell_type": "code",
   "execution_count": null,
   "metadata": {},
   "outputs": [],
   "source": [
    "# all factors at once\n",
    "\n",
    "print(\"=== All factors at once ===\")\n",
    "for i in range(len(df)):\n",
    "    print(\"Cosine similarity #{} : {}\".format(i + 1, round(cos_sim(df.iloc[0, 1:], df.iloc[i, 1:]), 2)))"
   ]
  },
  {
   "cell_type": "code",
   "execution_count": 42,
   "metadata": {},
   "outputs": [],
   "source": [
    "## Euclidean distance\n",
    "\n",
    "def dist(x, y):\n",
    "    return np.sqrt(np.sum((x - y) ** 2))"
   ]
  },
  {
   "cell_type": "code",
   "execution_count": null,
   "metadata": {},
   "outputs": [],
   "source": [
    "for i in range(len(df)):\n",
    "    print(\"Euclidean dist #{} : {}\".format(i, round(dist(df.iloc[0, 1:], df.iloc[i, 1:]), 2)))"
   ]
  }
 ],
 "metadata": {
  "kernelspec": {
   "display_name": "Python 3",
   "language": "python",
   "name": "python3"
  },
  "language_info": {
   "codemirror_mode": {
    "name": "ipython",
    "version": 3
   },
   "file_extension": ".py",
   "mimetype": "text/x-python",
   "name": "python",
   "nbconvert_exporter": "python",
   "pygments_lexer": "ipython3",
   "version": "3.12.7"
  }
 },
 "nbformat": 4,
 "nbformat_minor": 2
}
