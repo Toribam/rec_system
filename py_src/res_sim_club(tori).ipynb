{
 "cells": [
  {
   "cell_type": "code",
   "execution_count": null,
   "metadata": {},
   "outputs": [],
   "source": [
    "### Check Working directory\n",
    "\n",
    "import os\n",
    "print(\"Working dir: \", os.getcwd())\n",
    "\n",
    "os.chdir(os.pardir)         # change working dir to parents dir\n",
    "print(\"Changed dir: \", os.getcwd())"
   ]
  },
  {
   "cell_type": "code",
   "execution_count": null,
   "metadata": {},
   "outputs": [],
   "source": [
    "# view sim result\n",
    "\n",
    "import pandas as pd\n",
    "\n",
    "file_path = 'result/res_cosine_club.xlsx'\n",
    "df = pd.read_excel(file_path, sheet_name = 'Sheet1')\n",
    "\n",
    "sorted_df = df.sort_values(by='Cosine Similarity', ascending=False)\n",
    "\n",
    "print(sorted_df)"
   ]
  },
  {
   "cell_type": "code",
   "execution_count": null,
   "metadata": {},
   "outputs": [],
   "source": [
    "# club divide result\n",
    "df_group = pd.read_excel(file_path, sheet_name = 'Sheet4')\n",
    "\n",
    "print(df_group)"
   ]
  },
  {
   "cell_type": "code",
   "execution_count": 21,
   "metadata": {},
   "outputs": [
    {
     "name": "stdout",
     "output_type": "stream",
     "text": [
      "                                   ID   EXT   NEU   AGR   CON   OPN\n",
      "0    00419a4c96b32cd63b2c7196da761274  1.90  4.15  3.15  4.65  3.45\n",
      "1    02c37028a782cfda660c7243e45244bb  2.05  4.00  2.20  2.20  3.75\n",
      "2    03133a828cd0cf52e3752813ce5d818f  3.84  3.55  2.85  4.32  3.45\n",
      "3    03e6c4eca4269c183fa0e1780f73faba  3.20  3.60  3.85  4.35  4.80\n",
      "4    06b055f8e2bca96496514891057913c3  2.85  2.35  3.35  4.70  3.35\n",
      "..                                ...   ...   ...   ...   ...   ...\n",
      "245  f83aa7290cf3ae8ed75d6aee5ebbb559  2.65  1.70  3.95  3.00  3.15\n",
      "246  fbe5aa478508d1dc931427ade5d9e1b4  3.25  2.75  2.25  4.00  4.00\n",
      "247  fc1c9fb6c64740edcbbf8cfe9dde8b02  3.55  2.25  3.90  2.80  4.00\n",
      "248  fe22087986fdcc65939c793fe0ec90a9  3.45  2.55  3.15  3.50  2.90\n",
      "249  fffafe151f07a30a0ede2038a897b680  3.05  1.80  3.35  2.95  4.35\n",
      "\n",
      "[250 rows x 6 columns]\n",
      "=== indivisual ===\n",
      "       Row1  Row2  Cosine Similarity\n",
      "0         1     2           0.951905\n",
      "1         1     3           0.966918\n",
      "2         1     4           0.975332\n",
      "3         1     5           0.966944\n",
      "4         1     6           0.958614\n",
      "...     ...   ...                ...\n",
      "31120   247   249           0.979177\n",
      "31121   247   250           0.968925\n",
      "31122   248   249           0.980273\n",
      "31123   248   250           0.992880\n",
      "31124   249   250           0.968722\n",
      "\n",
      "[31125 rows x 3 columns]\n",
      "=== club div ===\n",
      "      Row1  Row2  Cosine Similarity\n",
      "0        1     2           0.938793\n",
      "1        1     3           0.978076\n",
      "2        1     4           0.975622\n",
      "3        1     5           0.984184\n",
      "4        1     6           0.978639\n",
      "...    ...   ...                ...\n",
      "1220    47    49           0.991704\n",
      "1221    47    50           0.954518\n",
      "1222    48    49           0.968895\n",
      "1223    48    50           0.980916\n",
      "1224    49    50           0.957589\n",
      "\n",
      "[1225 rows x 3 columns]\n"
     ]
    }
   ],
   "source": [
    "import pandas as pd\n",
    "import numpy as np\n",
    "from sklearn.metrics.pairwise import cosine_similarity\n",
    "\n",
    "# read raw data\n",
    "df_raw = pd.read_excel('raw_data/refined_data.xlsx')\n",
    "print(df_raw)\n",
    "\n",
    "file_path = 'result/res_cosine_club.xlsx'\n",
    "df_club = pd.read_excel(file_path, sheet_name = 'Sheet4')\n",
    "\n",
    "# Function to calculate cosine similarity\n",
    "def cos_sim(data):\n",
    "\n",
    "    data = data.iloc[:, 1:].values\n",
    "\n",
    "    # Calculate cosine similarity\n",
    "    cosine_similarity_matrix = cosine_similarity(data)\n",
    "\n",
    "    similarity_result = []\n",
    "\n",
    "    # for loop for cosine similarity\n",
    "    for i in range(len(cosine_similarity_matrix)):\n",
    "        for j in range(i + 1, len(cosine_similarity_matrix)):\n",
    "            similarity_result.append([i + 1, j + 1, cosine_similarity_matrix[i, j]])\n",
    "\n",
    "    # Return result as a DataFrame\n",
    "    return pd.DataFrame(similarity_result, columns=[\"Row1\", \"Row2\", \"Cosine Similarity\"])\n",
    "\n",
    "\n",
    "# Call function and display result\n",
    "indi_df = cos_sim(df_raw)\n",
    "print(\"=== indivisual ===\")\n",
    "print(indi_df)\n",
    "\n",
    "print(\"=== club div ===\")\n",
    "div_df = cos_sim(df_club)\n",
    "print(div_df)\n"
   ]
  },
  {
   "cell_type": "code",
   "execution_count": 28,
   "metadata": {},
   "outputs": [
    {
     "name": "stdout",
     "output_type": "stream",
     "text": [
      "   EXT   NEU   AGR   CON   OPN\n",
      "0  1.9  4.15  3.15  4.65  3.45\n"
     ]
    }
   ],
   "source": [
    "# indi_df and div_df\n",
    "\n",
    "# raw_data\n",
    "print(df_raw.iloc[0:1, 1:])\n",
    "\n"
   ]
  },
  {
   "cell_type": "code",
   "execution_count": null,
   "metadata": {},
   "outputs": [],
   "source": []
  }
 ],
 "metadata": {
  "kernelspec": {
   "display_name": "Python 3",
   "language": "python",
   "name": "python3"
  },
  "language_info": {
   "codemirror_mode": {
    "name": "ipython",
    "version": 3
   },
   "file_extension": ".py",
   "mimetype": "text/x-python",
   "name": "python",
   "nbconvert_exporter": "python",
   "pygments_lexer": "ipython3",
   "version": "3.12.7"
  }
 },
 "nbformat": 4,
 "nbformat_minor": 2
}
