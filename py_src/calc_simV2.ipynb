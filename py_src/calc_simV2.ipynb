{
 "cells": [
  {
   "cell_type": "code",
   "execution_count": 1,
   "metadata": {},
   "outputs": [
    {
     "name": "stdout",
     "output_type": "stream",
     "text": [
      "Working dir:  /Users/tori_mini/Documents/scripts/rec_system/py_src\n",
      "Changed dir:  /Users/tori_mini/Documents/scripts/rec_system\n"
     ]
    }
   ],
   "source": [
    "### Check Working directory\n",
    "\n",
    "import os\n",
    "print(\"Working dir: \", os.getcwd())\n",
    "\n",
    "os.chdir(os.pardir)         # change working dir to parents dir\n",
    "print(\"Changed dir: \", os.getcwd())"
   ]
  },
  {
   "cell_type": "code",
   "execution_count": 2,
   "metadata": {},
   "outputs": [
    {
     "name": "stdout",
     "output_type": "stream",
     "text": [
      " ==================== Data Distribution Summary ====================\n",
      "                                   ID   EXT   NEU   AGR   CON   OPN\n",
      "0    00419a4c96b32cd63b2c7196da761274  1.90  4.15  3.15  4.65  3.45\n",
      "1    02c37028a782cfda660c7243e45244bb  2.05  4.00  2.20  2.20  3.75\n",
      "2    03133a828cd0cf52e3752813ce5d818f  3.84  3.55  2.85  4.32  3.45\n",
      "3    03e6c4eca4269c183fa0e1780f73faba  3.20  3.60  3.85  4.35  4.80\n",
      "4    06b055f8e2bca96496514891057913c3  2.85  2.35  3.35  4.70  3.35\n",
      "..                                ...   ...   ...   ...   ...   ...\n",
      "245  f83aa7290cf3ae8ed75d6aee5ebbb559  2.65  1.70  3.95  3.00  3.15\n",
      "246  fbe5aa478508d1dc931427ade5d9e1b4  3.25  2.75  2.25  4.00  4.00\n",
      "247  fc1c9fb6c64740edcbbf8cfe9dde8b02  3.55  2.25  3.90  2.80  4.00\n",
      "248  fe22087986fdcc65939c793fe0ec90a9  3.45  2.55  3.15  3.50  2.90\n",
      "249  fffafe151f07a30a0ede2038a897b680  3.05  1.80  3.35  2.95  4.35\n",
      "\n",
      "[250 rows x 6 columns]\n"
     ]
    }
   ],
   "source": [
    "### import raw data\n",
    "\n",
    "import numpy as np\n",
    "import pandas as pd\n",
    "\n",
    "df = pd.read_excel('raw_data/refined_data.xlsx')\n",
    "\n",
    "# glimpse data\n",
    "print(\" ==================== Data Distribution Summary ====================\")\n",
    "print(df)"
   ]
  },
  {
   "cell_type": "code",
   "execution_count": 3,
   "metadata": {},
   "outputs": [
    {
     "name": "stdout",
     "output_type": "stream",
     "text": [
      " ==================== Data Distribution Summary ====================\n",
      "               Row1          Row2  Cosine Similarity\n",
      "count  31125.000000  31125.000000       31125.000000\n",
      "mean      83.666667    167.333333           0.964076\n",
      "std       58.807596     58.807596           0.027477\n",
      "min        1.000000      2.000000           0.785344\n",
      "25%       34.000000    126.000000           0.951067\n",
      "50%       74.000000    177.000000           0.971214\n",
      "75%      125.000000    217.000000           0.984393\n",
      "max      249.000000    250.000000           0.999927\n",
      "\n",
      "\n",
      "       Row1  Row2  Cosine Similarity\n",
      "0         1     2           0.951905\n",
      "1         1     3           0.966918\n",
      "2         1     4           0.975332\n",
      "3         1     5           0.966944\n",
      "4         1     6           0.958614\n",
      "...     ...   ...                ...\n",
      "31120   247   249           0.979177\n",
      "31121   247   250           0.968925\n",
      "31122   248   249           0.980273\n",
      "31123   248   250           0.992880\n",
      "31124   249   250           0.968722\n",
      "\n",
      "[31125 rows x 3 columns]\n",
      "\"Cosine Similarity\" saved as a CSV file.\n"
     ]
    }
   ],
   "source": [
    "### Cosine similarity\n",
    "\n",
    "from sklearn.metrics.pairwise import cosine_similarity\n",
    "\n",
    "def calc_cosine_similarity(df):\n",
    "\n",
    "    # DataFrame to NumPy array\n",
    "    data = df.iloc[:, 1:].values        # select factor columns\n",
    "\n",
    "    # calculation cosine similarity about all items\n",
    "    cosine_similarity_matrix = cosine_similarity(data)\n",
    "\n",
    "    # declare a list to save data\n",
    "    similarity_results = []\n",
    "\n",
    "    # for loop for cosine similarity\n",
    "    for i in range((len(cosine_similarity_matrix))):\n",
    "        for j in range(i + 1, len(cosine_similarity_matrix)):\n",
    "            similarity_results.append([i +1, j +1, cosine_similarity_matrix[i, j]])\n",
    "    \n",
    "    # save data as pandas DataFrame\n",
    "    similarity_df = pd.DataFrame(similarity_results, columns = [\"Row1\", \"Row2\", \"Cosine Similarity\"])\n",
    "\n",
    "    # glimpse data\n",
    "    print(\" ==================== Data Distribution Summary ====================\")\n",
    "    print(similarity_df.describe())\n",
    "    print(\"\\n\")\n",
    "    print(similarity_df)\n",
    "\n",
    "    # save data\n",
    "    similarity_df.to_csv('result/cos_sim.csv')\n",
    "    print('\"Cosine Similarity\" saved as a CSV file.')\n",
    "\n",
    "calc_cosine_similarity(df)"
   ]
  },
  {
   "cell_type": "code",
   "execution_count": 4,
   "metadata": {},
   "outputs": [
    {
     "name": "stdout",
     "output_type": "stream",
     "text": [
      " ==================== Data Distribution Summary ====================\n",
      "                Row1           Row2  Euclidean_Distance\n",
      "count  155625.000000  155625.000000       155625.000000\n",
      "mean       83.666667     167.333333            0.822543\n",
      "std        58.806840      58.806840            0.626909\n",
      "min         1.000000       2.000000            0.000000\n",
      "25%        34.000000     126.000000            0.300000\n",
      "50%        74.000000     177.000000            0.700000\n",
      "75%       125.000000     217.000000            1.200000\n",
      "max       249.000000     250.000000            3.670000\n",
      "\n",
      "\n",
      "        Row1  Row2 Factor  Euclidean_Distance\n",
      "0          1     2    EXT                0.15\n",
      "1          1     3    EXT                1.94\n",
      "2          1     4    EXT                1.30\n",
      "3          1     5    EXT                0.95\n",
      "4          1     6    EXT                1.10\n",
      "...      ...   ...    ...                 ...\n",
      "155620   247   249    OPN                1.10\n",
      "155621   247   250    OPN                0.35\n",
      "155622   248   249    OPN                1.10\n",
      "155623   248   250    OPN                0.35\n",
      "155624   249   250    OPN                1.45\n",
      "\n",
      "[155625 rows x 4 columns]\n",
      "\"Euclidean Distance\" saved as a CSV file.\n"
     ]
    }
   ],
   "source": [
    "### Euclidean distance\n",
    "\n",
    "from sklearn.metrics.pairwise import euclidean_distances\n",
    "\n",
    "def calc_euclidean_distances(df, col_range):\n",
    "\n",
    "    col_name = list(df.columns)\n",
    "    \n",
    "    euclidean_results = []\n",
    "\n",
    "    for col_idx in col_range:\n",
    "        # DataFrame to NumPy array\n",
    "        data_column = df.iloc[:, col_idx].values.reshape(-1, 1)\n",
    "\n",
    "        # calculation cosine similarity about all items\n",
    "        euclidean_dist_matrix = euclidean_distances(data_column)\n",
    "        \n",
    "        # for loop for euclidean distance\n",
    "        for i in range(len(euclidean_dist_matrix)):\n",
    "            for j in range(i + 1, len(euclidean_dist_matrix)):\n",
    "                euclidean_results.append([i + 1, j + 1, col_name[col_idx], euclidean_dist_matrix[i, j]])\n",
    "    \n",
    "    # save result of cosine similarity (i != j)\n",
    "    euclidean_df = pd.DataFrame(euclidean_results, columns=[\"Row1\", \"Row2\", \"Factor\", \"Euclidean_Distance\"])\n",
    "\n",
    "    # glimpse data\n",
    "    print(\" ==================== Data Distribution Summary ====================\")\n",
    "    print(euclidean_df.describe())\n",
    "    print(\"\\n\")\n",
    "    print(euclidean_df)\n",
    "\n",
    "    # save data\n",
    "    euclidean_df.to_csv('result/euclidean_dist.csv')\n",
    "    print('\"Euclidean Distance\" saved as a CSV file.')\n",
    "\n",
    "col_range = range(1, len(list(df.columns)))\n",
    "calc_euclidean_distances(df, col_range)"
   ]
  },
  {
   "cell_type": "code",
   "execution_count": null,
   "metadata": {},
   "outputs": [],
   "source": []
  }
 ],
 "metadata": {
  "kernelspec": {
   "display_name": "Python 3",
   "language": "python",
   "name": "python3"
  },
  "language_info": {
   "codemirror_mode": {
    "name": "ipython",
    "version": 3
   },
   "file_extension": ".py",
   "mimetype": "text/x-python",
   "name": "python",
   "nbconvert_exporter": "python",
   "pygments_lexer": "ipython3",
   "version": "3.12.3"
  }
 },
 "nbformat": 4,
 "nbformat_minor": 2
}
