{
 "cells": [
  {
   "cell_type": "code",
   "execution_count": 1,
   "metadata": {},
   "outputs": [
    {
     "name": "stdout",
     "output_type": "stream",
     "text": [
      "c:\\Users\\user20\\Desktop\\추천시스템\\rec_system\\py_src\n",
      "c:\\Users\\user20\\Desktop\\추천시스템\\rec_system\n"
     ]
    }
   ],
   "source": [
    "import os\n",
    "print(os.getcwd())\n",
    "\n",
    "os.chdir(os.pardir)\n",
    "print(os.getcwd())\n",
    "\n"
   ]
  },
  {
   "cell_type": "code",
   "execution_count": 12,
   "metadata": {},
   "outputs": [
    {
     "name": "stdout",
     "output_type": "stream",
     "text": [
      "                                   ID   EXT   NEU   AGR   CON   OPN CLUB\n",
      "0    00419a4c96b32cd63b2c7196da761274  1.90  4.15  3.15  4.65  3.45  NaN\n",
      "1    02c37028a782cfda660c7243e45244bb  2.05  4.00  2.20  2.20  3.75  NaN\n",
      "2    03133a828cd0cf52e3752813ce5d818f  3.84  3.55  2.85  4.32  3.45  NaN\n",
      "3    03e6c4eca4269c183fa0e1780f73faba  3.20  3.60  3.85  4.35  4.80  NaN\n",
      "4    06b055f8e2bca96496514891057913c3  2.85  2.35  3.35  4.70  3.35  NaN\n",
      "..                                ...   ...   ...   ...   ...   ...  ...\n",
      "245  f83aa7290cf3ae8ed75d6aee5ebbb559  2.65  1.70  3.95  3.00  3.15  NaN\n",
      "246  fbe5aa478508d1dc931427ade5d9e1b4  3.25  2.75  2.25  4.00  4.00  NaN\n",
      "247  fc1c9fb6c64740edcbbf8cfe9dde8b02  3.55  2.25  3.90  2.80  4.00  VH2\n",
      "248  fe22087986fdcc65939c793fe0ec90a9  3.45  2.55  3.15  3.50  2.90  VH2\n",
      "249  fffafe151f07a30a0ede2038a897b680  3.05  1.80  3.35  2.95  4.35  NaN\n",
      "\n",
      "[250 rows x 7 columns]\n"
     ]
    }
   ],
   "source": [
    "import pandas as pd\n",
    "\n",
    "df = pd.read_excel('raw_data/refined_data_club.xlsx')\n",
    "\n",
    "print(df)"
   ]
  },
  {
   "cell_type": "code",
   "execution_count": 14,
   "metadata": {},
   "outputs": [
    {
     "name": "stdout",
     "output_type": "stream",
     "text": [
      "                                   ID   EXT   NEU   AGR   CON   OPN CLUB\n",
      "76   5532642937eb3497a43e15dbb23a9d2d  1.40  4.05  3.30  3.40  3.95  VH1\n",
      "129  906314c683222f7d232b5ea1ee82befc  2.75  3.50  3.00  3.25  4.50  VH1\n",
      "134  970197105b41eac939d4fc3cec25137b  4.00  1.95  4.25  3.55  3.45  VH1\n",
      "156  ad30ce6078fd6ea54abca85610fba76f  2.45  3.25  2.50  3.30  4.20  VH1\n",
      "159  b05f34be807a91ce0325cda601bc5856  2.90  3.35  2.80  3.00  3.95  VH1\n"
     ]
    }
   ],
   "source": [
    "vh1 = df[df.CLUB == 'VH1']\n",
    "print(vh1)"
   ]
  },
  {
   "cell_type": "code",
   "execution_count": null,
   "metadata": {},
   "outputs": [],
   "source": []
  }
 ],
 "metadata": {
  "kernelspec": {
   "display_name": "Python 3",
   "language": "python",
   "name": "python3"
  },
  "language_info": {
   "codemirror_mode": {
    "name": "ipython",
    "version": 3
   },
   "file_extension": ".py",
   "mimetype": "text/x-python",
   "name": "python",
   "nbconvert_exporter": "python",
   "pygments_lexer": "ipython3",
   "version": "3.12.7"
  }
 },
 "nbformat": 4,
 "nbformat_minor": 2
}
