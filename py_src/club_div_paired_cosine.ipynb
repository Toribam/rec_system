{
 "cells": [
  {
   "cell_type": "code",
   "execution_count": 1,
   "metadata": {},
   "outputs": [
    {
     "name": "stdout",
     "output_type": "stream",
     "text": [
      "Init dir:  c:\\Users\\user20\\Desktop\\추천시스템\\rec_system\\py_src\n",
      "Work dir:  c:\\Users\\user20\\Desktop\\추천시스템\\rec_system\n"
     ]
    }
   ],
   "source": [
    "import os\n",
    "print(\"Init dir: \", os.getcwd())\n",
    "os.chdir(os.pardir)\n",
    "print(\"Work dir: \", os.getcwd())"
   ]
  },
  {
   "cell_type": "code",
   "execution_count": 2,
   "metadata": {},
   "outputs": [
    {
     "name": "stdout",
     "output_type": "stream",
     "text": [
      "                                   ID   EXT   NEU   AGR   CON   OPN\n",
      "0    00419a4c96b32cd63b2c7196da761274  1.90  4.15  3.15  4.65  3.45\n",
      "1    02c37028a782cfda660c7243e45244bb  2.05  4.00  2.20  2.20  3.75\n",
      "2    03133a828cd0cf52e3752813ce5d818f  3.84  3.55  2.85  4.32  3.45\n",
      "3    03e6c4eca4269c183fa0e1780f73faba  3.20  3.60  3.85  4.35  4.80\n",
      "4    06b055f8e2bca96496514891057913c3  2.85  2.35  3.35  4.70  3.35\n",
      "..                                ...   ...   ...   ...   ...   ...\n",
      "245  f83aa7290cf3ae8ed75d6aee5ebbb559  2.65  1.70  3.95  3.00  3.15\n",
      "246  fbe5aa478508d1dc931427ade5d9e1b4  3.25  2.75  2.25  4.00  4.00\n",
      "247  fc1c9fb6c64740edcbbf8cfe9dde8b02  3.55  2.25  3.90  2.80  4.00\n",
      "248  fe22087986fdcc65939c793fe0ec90a9  3.45  2.55  3.15  3.50  2.90\n",
      "249  fffafe151f07a30a0ede2038a897b680  3.05  1.80  3.35  2.95  4.35\n",
      "\n",
      "[250 rows x 6 columns]\n"
     ]
    }
   ],
   "source": [
    "import pandas as pd\n",
    "import numpy as np\n",
    "\n",
    "df = pd.read_excel('raw_data/refined_data.xlsx')\n",
    "print(df)\n",
    "df_summary = df.describe()"
   ]
  },
  {
   "cell_type": "code",
   "execution_count": 3,
   "metadata": {},
   "outputs": [
    {
     "name": "stdout",
     "output_type": "stream",
     "text": [
      "cosine similarity        Row1  Row2  Cosine Similarity\n",
      "0         1     2           0.951905\n",
      "1         1     3           0.966918\n",
      "2         1     4           0.975332\n",
      "3         1     5           0.966944\n",
      "4         1     6           0.958614\n",
      "...     ...   ...                ...\n",
      "31120   247   249           0.979177\n",
      "31121   247   250           0.968925\n",
      "31122   248   249           0.980273\n",
      "31123   248   250           0.992880\n",
      "31124   249   250           0.968722\n",
      "\n",
      "[31125 rows x 3 columns]\n",
      "Summary:                 Row1          Row2  Cosine Similarity\n",
      "count  31125.000000  31125.000000       31125.000000\n",
      "mean      83.666667    167.333333           0.964076\n",
      "std       58.807596     58.807596           0.027477\n",
      "min        1.000000      2.000000           0.785344\n",
      "25%       34.000000    126.000000           0.951067\n",
      "50%       74.000000    177.000000           0.971214\n",
      "75%      125.000000    217.000000           0.984393\n",
      "max      249.000000    250.000000           0.999927\n"
     ]
    }
   ],
   "source": [
    "from sklearn.metrics.pairwise import cosine_similarity\n",
    "\n",
    "# calculation cosine similarity about all items\n",
    "def cos_sim(data):\n",
    "    cosine_similarity_matrix = cosine_similarity(data.iloc[:, 1:].values)\n",
    "\n",
    "    # declare a list to save data\n",
    "    similarity_results = []\n",
    "\n",
    "    # for loop for cosine similarity\n",
    "    for i in range((len(cosine_similarity_matrix))):\n",
    "        for j in range(i + 1, len(cosine_similarity_matrix)):\n",
    "            similarity_results.append([i +1, j +1, cosine_similarity_matrix[i, j]])\n",
    "\n",
    "\n",
    "    # save data as pandas DataFrame\n",
    "    return pd.DataFrame(similarity_results, columns = [\"Row1\", \"Row2\", \"Cosine Similarity\"])\n",
    "\n",
    "res_cos = cos_sim(df)\n",
    "res_cos_summary = res_cos.describe()\n",
    "print(\"cosine similarity\", res_cos)\n",
    "print(\"Summary: \", res_cos_summary)"
   ]
  },
  {
   "cell_type": "code",
   "execution_count": 5,
   "metadata": {},
   "outputs": [
    {
     "name": "stdout",
     "output_type": "stream",
     "text": [
      "               Row1          Row2  Cosine Similarity\n",
      "count  31125.000000  31125.000000       31125.000000\n",
      "mean      83.666667    167.333333           0.964076\n",
      "std       58.807596     58.807596           0.027477\n",
      "min        1.000000      2.000000           0.785344\n",
      "25%       34.000000    126.000000           0.951067\n",
      "50%       74.000000    177.000000           0.971214\n",
      "75%      125.000000    217.000000           0.984393\n",
      "max      249.000000    250.000000           0.999927\n",
      "mean 0.9640764864994569\n",
      "std 0.027476917070290884\n",
      "up_lim 0.9915534035697477\n",
      "lo_lim 0.936599569429166\n",
      "index 0: ID: 38 ID: 191, similarity: 0.9932\n",
      "index 1: ID: 55 ID: 99, similarity: 0.9968\n",
      "index 2: ID: 33 ID: 142, similarity: 0.9967\n",
      "index 3: ID: 27 ID: 134, similarity: 0.9925\n",
      "index 4: ID: 125 ID: 151, similarity: 0.9936\n",
      "index 5: ID: 186 ID: 193, similarity: 0.9976\n"
     ]
    }
   ],
   "source": [
    "import random\n",
    "random.seed(555)\n",
    "## random shuffle by cosine similarity\n",
    "print(res_cos_summary)\n",
    "\n",
    "## summary\n",
    "mean = res_cos_summary.iloc[1,2]\n",
    "std = res_cos_summary.iloc[2,2]\n",
    "print(\"mean\", res_cos_summary.iloc[1,2])\n",
    "print(\"std\", res_cos_summary.iloc[2,2])\n",
    "\n",
    "up_lim = mean + std\n",
    "lo_lim = mean - std\n",
    "print(\"up_lim\", up_lim)\n",
    "print(\"lo_lim\", lo_lim)\n",
    "\n",
    "alpha = 0.05\n",
    "\n",
    "def cos_shuffle(data, statistical_div):\n",
    "    '''\n",
    "    statistical_div represents the level of upper and lower limit\n",
    "    '''\n",
    "\n",
    "    filtered_sim = []\n",
    "\n",
    "    cosine_similarity_matrix = cosine_similarity(data.iloc[:, 1:].values)\n",
    "    for i in range(len(cosine_similarity_matrix)):\n",
    "        for j in range(i + 1, len(cosine_similarity_matrix)):\n",
    "            similarity = cosine_similarity_matrix[i][j]\n",
    "\n",
    "            ### condition\n",
    "\n",
    "            # up_lim < sim < max\n",
    "            if statistical_div == \"vh\":\n",
    "                if up_lim < similarity:\n",
    "                    filtered_sim.append((similarity, i, j))\n",
    "            \n",
    "            # mean < sim < up_lim\n",
    "            if statistical_div == \"up\":\n",
    "                if up_lim < similarity:\n",
    "                    filtered_sim.append((similarity, i, j))\n",
    "\n",
    "            # lo_lim < sim < up_lim\n",
    "            if statistical_div == \"mid\":\n",
    "                if lo_lim < similarity < up_lim:\n",
    "                    filtered_sim.append((similarity, i, j))\n",
    "\n",
    "            # lo_lim < sim < mean\n",
    "            if statistical_div == \"lo\":\n",
    "                if lo_lim < similarity < mean:\n",
    "                    filtered_sim.append((similarity, i, j))\n",
    "\n",
    "            # min < sim < lo_lim\n",
    "            if statistical_div == \"vl\":\n",
    "                if similarity < lo_lim:\n",
    "                    filtered_sim.append((similarity, i, j))\n",
    "\n",
    "    random_groups = random.sample(filtered_sim, min(6, len(filtered_sim)))\n",
    "    return random_groups\n",
    "\n",
    "test = cos_shuffle(df, 'vh')\n",
    "\n",
    "for idx, (similarity, i, j) in enumerate(test):\n",
    "    print(f\"index {idx}: ID: {i} ID: {j}, similarity: {similarity:.4f}\")"
   ]
  },
  {
   "cell_type": "code",
   "execution_count": 6,
   "metadata": {},
   "outputs": [
    {
     "name": "stdout",
     "output_type": "stream",
     "text": [
      "ID: 38 ID: 191, similarity: 0.9932\n",
      "ID: 55 ID: 99, similarity: 0.9968\n",
      "ID: 33 ID: 142, similarity: 0.9967\n",
      "ID: 27 ID: 134, similarity: 0.9925\n",
      "ID: 125 ID: 151, similarity: 0.9936\n",
      "ID: 186 ID: 193, similarity: 0.9976\n"
     ]
    }
   ],
   "source": [
    "### paired cosine similarity\n",
    "\n",
    "import random\n",
    "from sklearn.metrics.pairwise import cosine_similarity\n",
    "\n",
    "random.seed(555)\n",
    "\n",
    "def cos_shuffle(data, statistical_div):\n",
    "    '''\n",
    "    statistical_div represents the level of upper and lower limit\n",
    "    '''\n",
    "\n",
    "    # calc cosine similarity\n",
    "    cosine_similarity_matrix = cosine_similarity(data.iloc[:, 1:].values)\n",
    "\n",
    "    # filtering similarity range\n",
    "    filtered_sim = []\n",
    "    for i in range(len(cosine_similarity_matrix)):\n",
    "        for j in range(i + 1, len(cosine_similarity_matrix)):\n",
    "            similarity = cosine_similarity_matrix[i][j]\n",
    "\n",
    "            # condition\n",
    "            if statistical_div == \"vh\" and similarity > up_lim:\n",
    "                filtered_sim.append((similarity, i, j))\n",
    "            elif statistical_div == \"up\" and mean < similarity <= up_lim:\n",
    "                filtered_sim.append((similarity, i, j))\n",
    "            elif statistical_div == \"mid\" and lo_lim < similarity <= up_lim:\n",
    "                filtered_sim.append((similarity, i, j))\n",
    "            elif statistical_div == \"lo\" and lo_lim < similarity <= mean:\n",
    "                filtered_sim.append((similarity, i, j))\n",
    "            elif statistical_div == \"vl\" and similarity <= lo_lim:\n",
    "                filtered_sim.append((similarity, i, j))\n",
    "\n",
    "    # random sampling from condition range\n",
    "    random_groups = random.sample(filtered_sim, min(6, len(filtered_sim)))\n",
    "    return random_groups\n",
    "\n",
    "# execution function\n",
    "test = cos_shuffle(df, 'vh')\n",
    "\n",
    "for similarity, i, j in test:\n",
    "    print(f\"ID: {i} ID: {j}, similarity: {similarity:.4f}\")"
   ]
  }
 ],
 "metadata": {
  "kernelspec": {
   "display_name": "Python 3",
   "language": "python",
   "name": "python3"
  },
  "language_info": {
   "codemirror_mode": {
    "name": "ipython",
    "version": 3
   },
   "file_extension": ".py",
   "mimetype": "text/x-python",
   "name": "python",
   "nbconvert_exporter": "python",
   "pygments_lexer": "ipython3",
   "version": "3.12.7"
  }
 },
 "nbformat": 4,
 "nbformat_minor": 2
}
